{
 "cells": [
  {
   "cell_type": "markdown",
   "id": "2d9a22e9",
   "metadata": {},
   "source": [
    "#### Importing Packages"
   ]
  },
  {
   "cell_type": "code",
   "execution_count": 1,
   "id": "41c5857b",
   "metadata": {},
   "outputs": [],
   "source": [
    "#Importing the necessary packages\n",
    "import numpy as np\n",
    "import pandas as pd\n",
    "import re\n",
    "import string\n",
    "import time\n",
    "import matplotlib.pyplot as plt\n",
    "import seaborn as sns\n",
    "import warnings\n",
    "from sklearn.metrics import accuracy_score\n",
    "import re\n",
    "import nltk\n",
    "from nltk.corpus import stopwords\n",
    "from sklearn.feature_extraction.text import TfidfVectorizer\n",
    "from sklearn.pipeline import make_union\n",
    "from sklearn.linear_model import LogisticRegression\n",
    "from sklearn.model_selection import cross_val_score\n",
    "from sklearn.model_selection import train_test_split\n",
    "from sklearn.linear_model import Ridge\n",
    "\n",
    "warnings.filterwarnings('ignore')\n",
    "%matplotlib inline"
   ]
  },
  {
   "cell_type": "markdown",
   "id": "ae39ffbb",
   "metadata": {},
   "source": [
    "#### Reading Data"
   ]
  },
  {
   "cell_type": "code",
   "execution_count": 2,
   "id": "d52ff8b1",
   "metadata": {},
   "outputs": [
    {
     "data": {
      "text/plain": [
       "(127656, 7)"
      ]
     },
     "execution_count": 2,
     "metadata": {},
     "output_type": "execute_result"
    }
   ],
   "source": [
    "#Reading the data from CSV file\n",
    "train = pd.read_csv('train.csv').fillna(' ')\n",
    "test = pd.read_csv('test.csv').fillna(' ')\n",
    "train.drop(columns = [\"id\"],inplace = True)\n",
    "train.shape"
   ]
  },
  {
   "cell_type": "code",
   "execution_count": 3,
   "id": "f336eb47",
   "metadata": {},
   "outputs": [],
   "source": [
    "class_names = [\"harsh\",\"extremely_harsh\",\"vulgar\",\"threatening\",\"disrespect\",\"targeted_hate\"]"
   ]
  },
  {
   "cell_type": "markdown",
   "id": "f3e59515",
   "metadata": {},
   "source": [
    "### EDA - Frequency Plot of Labels"
   ]
  },
  {
   "cell_type": "code",
   "execution_count": 4,
   "id": "cea98a16",
   "metadata": {},
   "outputs": [
    {
     "data": {
      "image/png": "[encoded data removed]",
      "text/plain": [
       "<Figure size 504x504 with 1 Axes>"
      ]
     },
     "metadata": {},
     "output_type": "display_data"
    }
   ],
   "source": [
    "categories = list(train.iloc[:,1:].columns.values)\n",
    "\n",
    "sns.set(font_scale = 1)\n",
    "plt.figure(figsize=(7,7))\n",
    "\n",
    "ax = sns.barplot(categories, train.iloc[:,1:].sum().values)\n",
    "\n",
    "plt.title(\"Frequency\", fontsize=24)\n",
    "plt.ylabel('Number of Comments', fontsize=18)\n",
    "plt.xlabel('Comment Category ', fontsize=18)\n",
    "\n",
    "#adding the text labels\n",
    "rects = ax.patches\n",
    "labels = train.iloc[:,1:].sum().values\n",
    "for rect, label in zip(rects, labels):\n",
    "    height = rect.get_height()\n",
    "    ax.text(rect.get_x() + rect.get_width()/2, height + 5, label, ha='center', va='bottom', fontsize=12)\n",
    "plt.show()"
   ]
  },
  {
   "cell_type": "markdown",
   "id": "f449fe61",
   "metadata": {},
   "source": [
    "## Preprocessing"
   ]
  },
  {
   "cell_type": "code",
   "execution_count": 5,
   "id": "b6fcf37a",
   "metadata": {},
   "outputs": [],
   "source": [
    "train_text = train['text']\n",
    "test_text = test['text']"
   ]
  },
  {
   "cell_type": "code",
   "execution_count": 6,
   "id": "11c77d6e",
   "metadata": {},
   "outputs": [],
   "source": [
    "all_text = pd.concat([train_text,test_text])"
   ]
  },
  {
   "cell_type": "code",
   "execution_count": 7,
   "id": "66525b4c",
   "metadata": {},
   "outputs": [],
   "source": [
    "#Removing Slang\n",
    "def clean_text(text):\n",
    "    text = text.lower()\n",
    "    text = re.sub(r\"what's\", \"what is \", text)\n",
    "    text = re.sub(r\"\\'s\", \" \", text) #multiple spaces \n",
    "    text = re.sub(r\"\\'ve\", \" have \", text)\n",
    "    text = re.sub(r\"can't\", \"cannot \", text)\n",
    "    text = re.sub(r\"n't\", \" not \", text)\n",
    "    text = re.sub(r\"i'm\", \"i am \", text)\n",
    "    text = re.sub(r\"\\'re\", \" are \", text)\n",
    "    text = re.sub(r\"\\'d\", \" would \", text)\n",
    "    text = re.sub(r\"\\'ll\", \" will \", text)\n",
    "    text = re.sub(r\"\\'scuse\", \" excuse \", text)\n",
    "    text = re.sub(r\"em\", \" them \", text)\n",
    "    text = re.sub('\\W', ' ', text)\n",
    "    text = re.sub('\\s+', ' ', text)\n",
    "    text = re.sub(\"[^-9A-Za-z ]\", \"\" , text)\n",
    "    text = text.strip(' ')  #trimming\n",
    "    return text\n",
    "\n",
    "#Removing html elements\n",
    "def cleanHtml(sentence):\n",
    "    cleanr = re.compile('<.*?>')\n",
    "    cleantext = re.sub(cleanr, ' ', str(sentence))\n",
    "    return cleantext\n",
    "\n",
    "#Removing punctuation marks\n",
    "def cleanPunc(sentence): \n",
    "    cleaned = re.sub(r'[?|!|\\'|\"|#]',r'',sentence)\n",
    "    cleaned = re.sub(r'[.|,|)|(|\\|/]',r' ',cleaned)\n",
    "    cleaned = cleaned.strip()\n",
    "    cleaned = cleaned.replace(\"\\n\",\" \")\n",
    "    return cleaned\n",
    "\n",
    "#Keeping English Alphabets\n",
    "def keepAlpha(sentence):\n",
    "    alpha_sent = \"\"\n",
    "    for word in sentence.split():\n",
    "        alpha_word = re.sub('[^a-z A-Z]+', ' ', word)\n",
    "        alpha_sent += alpha_word\n",
    "        alpha_sent += \" \"\n",
    "    alpha_sent = alpha_sent.strip()\n",
    "    return alpha_sent"
   ]
  },
  {
   "cell_type": "code",
   "execution_count": 8,
   "id": "9b59bf7e",
   "metadata": {},
   "outputs": [
    {
     "data": {
      "text/plain": [
       "0    new main picture how about this for the main p...\n",
       "1    think of th them like population charts just b...\n",
       "2    this page se them s a little misleading the re...\n",
       "3                  actually accounts are never deleted\n",
       "4    yeah yeah ok so did i still what i meant is we...\n",
       "Name: text, dtype: object"
      ]
     },
     "execution_count": 8,
     "metadata": {},
     "output_type": "execute_result"
    }
   ],
   "source": [
    "all_text = all_text.map(lambda com : clean_text(com))\n",
    "all_text = all_text.str.lower()\n",
    "all_text=  all_text.apply(cleanHtml)\n",
    "all_text = all_text.apply(cleanPunc)\n",
    "all_text = all_text.apply(keepAlpha)\n",
    "\n",
    "all_text.head()"
   ]
  },
  {
   "cell_type": "code",
   "execution_count": 9,
   "id": "9c3a207d",
   "metadata": {},
   "outputs": [
    {
     "data": {
      "text/plain": [
       "0    new main picture      main picture sadly  dont...\n",
       "1    think  th  like population charts   every year...\n",
       "2     page se    little misleading  reason   midpoi...\n",
       "3                     actually accounts  never deleted\n",
       "4    yeah yeah ok    still   meant   know nothing  ...\n",
       "Name: text, dtype: object"
      ]
     },
     "execution_count": 9,
     "metadata": {},
     "output_type": "execute_result"
    }
   ],
   "source": [
    "#Removing Stop words\n",
    "stop_words = set(stopwords.words('english'))\n",
    "stop_words.update(['zero','one','two','three','four','five','six','seven','eight','nine','ten','may','also','across','among','beside','however','yet','within'])\n",
    "re_stop_words = re.compile(r\"\\b(\" + \"|\".join(stop_words) + \")\\\\W\", re.I)\n",
    "def removeStopWords(sentence):\n",
    "    global re_stop_words\n",
    "    return re_stop_words.sub(\" \", sentence)\n",
    "\n",
    "all_text = all_text.apply(removeStopWords)\n",
    "all_text.head()"
   ]
  },
  {
   "cell_type": "markdown",
   "id": "6683d885",
   "metadata": {},
   "source": [
    "#### Vectorize using Tfidf"
   ]
  },
  {
   "cell_type": "code",
   "execution_count": 10,
   "id": "82a56ccf",
   "metadata": {},
   "outputs": [],
   "source": [
    "word_vectorizer = TfidfVectorizer(\n",
    "    sublinear_tf=True,\n",
    "    strip_accents='unicode',\n",
    "    analyzer='word',\n",
    "    token_pattern=r'\\w{1,}',\n",
    "    ngram_range=(1, 1),\n",
    "    max_features=20000)\n",
    "char_vectorizer = TfidfVectorizer(\n",
    "    sublinear_tf=True,\n",
    "    strip_accents='unicode',\n",
    "    analyzer='char',\n",
    "    ngram_range=(2, 6),\n",
    "    max_features=30000)\n",
    "vectorizer = make_union(word_vectorizer, char_vectorizer, n_jobs=2)\n",
    "\n",
    "all_text = vectorizer.fit(all_text)\n",
    "train_features = vectorizer.transform(train_text)\n",
    "test_features = vectorizer.transform(test_text)"
   ]
  },
  {
   "cell_type": "markdown",
   "id": "e70c225e",
   "metadata": {},
   "source": [
    "## Approach 1 : SAG solver for Logistic Regression"
   ]
  },
  {
   "cell_type": "code",
   "execution_count": 11,
   "id": "c8fa0cbd",
   "metadata": {},
   "outputs": [
    {
     "name": "stdout",
     "output_type": "stream",
     "text": [
      "Processing : harsh.\n",
      "Training accuracy score is 0.9750100327535162\n",
      "\n",
      "Processing : extremely_harsh.\n",
      "Training accuracy score is 0.9873041714508233\n",
      "\n",
      "Processing : vulgar.\n",
      "Training accuracy score is 0.9885556470952938\n",
      "\n",
      "Processing : threatening.\n",
      "Training accuracy score is 0.9841569686277266\n",
      "\n",
      "Processing : disrespect.\n",
      "Training accuracy score is 0.9810220173130246\n",
      "\n",
      "Processing : targeted_hate.\n",
      "Training accuracy score is 0.9797335672491133\n",
      "\n",
      "Overall cross-val score is 0.9826304007482495\n"
     ]
    }
   ],
   "source": [
    "scores = []\n",
    "submission = pd.DataFrame.from_dict({'id': test['id']})\n",
    "for class_name in class_names:\n",
    "    train_target = train[class_name]\n",
    "    classifier = LogisticRegression(solver='sag')\n",
    "\n",
    "    cv_score = np.mean(cross_val_score(\n",
    "        classifier, train_features, train_target, cv=3, scoring='roc_auc'))\n",
    "    scores.append(cv_score)\n",
    "    print('Processing : {}.\\nTraining accuracy score is {}\\n'.format(class_name, cv_score))\n",
    "\n",
    "    classifier.fit(train_features, train_target)\n",
    "    submission[class_name] = classifier.predict_proba(test_features)[:, 1]\n",
    "\n",
    "print('Overall cross-val score is {}'.format(np.mean(scores)))\n",
    "\n",
    "submission.to_csv('final_submission.csv', index=False)"
   ]
  },
  {
   "cell_type": "markdown",
   "id": "5ce61b17",
   "metadata": {},
   "source": [
    "## Approach 2 : Using Ridge classifier with n-grams"
   ]
  },
  {
   "cell_type": "code",
   "execution_count": 12,
   "id": "a70759a3",
   "metadata": {},
   "outputs": [
    {
     "name": "stdout",
     "output_type": "stream",
     "text": [
      "Processing : harsh.\n",
      "Training accuracy score is 0.9797335672491133\n",
      "\n",
      "Processing : extremely_harsh.\n",
      "Training accuracy score is 0.9797335672491133\n",
      "\n",
      "Processing : vulgar.\n",
      "Training accuracy score is 0.9797335672491133\n",
      "\n",
      "Processing : threatening.\n",
      "Training accuracy score is 0.9797335672491133\n",
      "\n",
      "Processing : disrespect.\n",
      "Training accuracy score is 0.9797335672491133\n",
      "\n",
      "Processing : targeted_hate.\n",
      "Training accuracy score is 0.9797335672491133\n",
      "\n",
      "Overall cross-val score is 0.9797335672491133\n"
     ]
    }
   ],
   "source": [
    "scores = []\n",
    "submission = pd.DataFrame.from_dict({'id': test['id']})\n",
    "for class_name in class_names:\n",
    "    train_target = train[class_name]\n",
    "    classifier = Ridge(alpha=20, copy_X=True, fit_intercept=True, solver='auto',\n",
    "                        max_iter=100,   normalize=False, random_state=0,  tol=0.0025)\n",
    "    scores.append(cv_score)\n",
    "    print('Processing : {}.\\nTraining accuracy score is {}\\n'.format(class_name, cv_score))\n",
    "    classifier.fit(train_features, train_target)\n",
    "    submission[class_name] = classifier.predict(test_features)\n",
    "print('Overall cross-val score is {}'.format(np.mean(scores)))\n",
    "\n",
    "submission.to_csv('ridge.csv', index=False)"
   ]
  },
  {
   "cell_type": "markdown",
   "id": "5e3d971d",
   "metadata": {},
   "source": [
    "## Approach 3 : Liblinear solver for Logistic Regression simple word vectorizer"
   ]
  },
  {
   "cell_type": "code",
   "execution_count": 13,
   "id": "79c0ba3b",
   "metadata": {},
   "outputs": [
    {
     "name": "stdout",
     "output_type": "stream",
     "text": [
      "(102124, 7)\n",
      "(25532, 7)\n"
     ]
    }
   ],
   "source": [
    "train_set, valid_set = train_test_split(train, test_size=0.2, random_state=42)\n",
    "\n",
    "print(train_set.shape)\n",
    "print(valid_set.shape)"
   ]
  },
  {
   "cell_type": "code",
   "execution_count": 14,
   "id": "33102d90",
   "metadata": {},
   "outputs": [],
   "source": [
    "vect = TfidfVectorizer(max_features=1000,stop_words='english')"
   ]
  },
  {
   "cell_type": "code",
   "execution_count": 15,
   "id": "4d77f79f",
   "metadata": {},
   "outputs": [],
   "source": [
    "training_X = train_set['text']\n",
    "training_X_dtm = vect.fit_transform(training_X)\n",
    "\n",
    "validating_X = valid_set['text']\n",
    "validating_X_dtm = vect.transform(validating_X)\n",
    "\n",
    "test_X = test['text']\n",
    "test_X_dtm = vect.transform(test_X)"
   ]
  },
  {
   "cell_type": "code",
   "execution_count": 16,
   "id": "54332a5e",
   "metadata": {},
   "outputs": [
    {
     "name": "stdout",
     "output_type": "stream",
     "text": [
      "Processing : harsh\n",
      "\n",
      "Training accuracy is 0.9068228105906314\n",
      "\n",
      "Processing : extremely_harsh\n",
      "\n",
      "Training accuracy is 0.9909133636221212\n",
      "\n",
      "Processing : vulgar\n",
      "\n",
      "Training accuracy is 0.947595174682751\n",
      "\n",
      "Processing : threatening\n",
      "\n",
      "Training accuracy is 0.9971016763277456\n",
      "\n",
      "Processing : disrespect\n",
      "\n",
      "Training accuracy is 0.9517859940466865\n",
      "\n",
      "Processing : targeted_hate\n",
      "\n",
      "Training accuracy is 0.9907958640137866\n",
      "\n"
     ]
    }
   ],
   "source": [
    "logreg = LogisticRegression(C=12.0,solver='liblinear')\n",
    "\n",
    "submission_binary = pd.read_csv('sample_submission.csv')\n",
    "\n",
    "for label in class_names:\n",
    "    print('Processing : {}\\n'.format(label))\n",
    "    training_y = train[:train_set.shape[0]][label]\n",
    "    validating_y = train[train_set.shape[0]:][label]\n",
    "    logreg.fit(training_X_dtm, training_y)\n",
    "    y_pred_validation = logreg.predict(validating_X_dtm)\n",
    "    print('Training accuracy is {}\\n'.format(accuracy_score(validating_y, y_pred_validation)))\n",
    "    test_y_prob = logreg.predict_proba(test_X_dtm)[:,1]\n",
    "    submission_binary[label] = test_y_prob"
   ]
  },
  {
   "cell_type": "code",
   "execution_count": 17,
   "id": "f282cde0",
   "metadata": {},
   "outputs": [],
   "source": [
    "submission_binary.head()\n",
    "submission_binary.to_csv('binaryRelevance_liblinear.csv',index=False)"
   ]
  }
 ],
 "metadata": {
  "kernelspec": {
   "display_name": "Python 3",
   "language": "python",
   "name": "python3"
  },
  "language_info": {
   "codemirror_mode": {
    "name": "ipython",
    "version": 3
   },
   "file_extension": ".py",
   "mimetype": "text/x-python",
   "name": "python",
   "nbconvert_exporter": "python",
   "pygments_lexer": "ipython3",
   "version": "3.8.8"
  }
 },
 "nbformat": 4,
 "nbformat_minor": 5
}
